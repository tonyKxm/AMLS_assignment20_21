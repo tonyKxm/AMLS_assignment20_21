{
 "cells": [
  {
   "cell_type": "code",
   "execution_count": 1,
   "metadata": {},
   "outputs": [],
   "source": [
    "from PIL import Image\n",
    "import os.path\n",
    "import pandas as pd\n",
    "from sklearn.model_selection import train_test_split,cross_val_score\n",
    "from sklearn.linear_model import LogisticRegression\n",
    "from sklearn.metrics import accuracy_score\n",
    "import numpy as np\n",
    "import matplotlib.pyplot as plt\n",
    "from sklearn import datasets"
   ]
  },
  {
   "cell_type": "code",
   "execution_count": 2,
   "metadata": {},
   "outputs": [],
   "source": [
    "def get_data():\n",
    "    X=[]\n",
    "    y=[]\n",
    "    filelist = os.listdir('./celeba/img')\n",
    "    labels = pd.read_csv('./celeba/labels.csv',delimiter = '\\t')\n",
    "    for item in filelist:\n",
    "        path = os.path.join('./celeba/img',item)\n",
    "        img=Image.open(path)  \n",
    "        img = img.resize((64,64), Image.BILINEAR)\n",
    "        img = img.convert('L')\n",
    "        img = np.resize(img,64*64)\n",
    "        X.append(np.array(img)/255.)\n",
    "        y.append(labels['gender'][int(item.split('.')[0])])\n",
    "    y = np.array(y)\n",
    "    Y = np.array((y+1)/2)\n",
    "    x_train, x_test, y_train, y_test = train_test_split(X, Y,random_state=0)\n",
    "\n",
    "    return x_train, x_test, y_train, y_test, X, Y"
   ]
  },
  {
   "cell_type": "code",
   "execution_count": 3,
   "metadata": {},
   "outputs": [],
   "source": [
    "x_train, x_test, y_train, y_test, X, Y = get_data()"
   ]
  },
  {
   "cell_type": "code",
   "execution_count": 4,
   "metadata": {},
   "outputs": [
    {
     "name": "stderr",
     "output_type": "stream",
     "text": [
      "C:\\Users\\Public\\Downloads\\Anaconda\\envs\\AMLS\\lib\\site-packages\\sklearn\\svm\\_base.py:977: ConvergenceWarning: Liblinear failed to converge, increase the number of iterations.\n",
      "  \"the number of iterations.\", ConvergenceWarning)\n"
     ]
    }
   ],
   "source": [
    "max_iter = np.arange(10,201,10)\n",
    "test_acc =[]\n",
    "train_acc=[]\n",
    "for iter_ in max_iter:\n",
    "    logreg = LogisticRegression(penalty='l1',solver='liblinear',C=0.62,max_iter = iter_)\n",
    "    logreg.fit(x_train, y_train)\n",
    "    yTest_pred= logreg.predict(x_test)\n",
    "    yTrain_pred = logreg.predict(x_train)\n",
    "    test_acc.append(accuracy_score(y_test,yTest_pred)) \n",
    "    train_acc.append(accuracy_score(y_train,yTrain_pred))"
   ]
  },
  {
   "cell_type": "code",
   "execution_count": 5,
   "metadata": {},
   "outputs": [
    {
     "data": {
      "text/plain": [
       "<matplotlib.legend.Legend at 0x2a232794b88>"
      ]
     },
     "execution_count": 5,
     "metadata": {},
     "output_type": "execute_result"
    },
    {
     "data": {
      "image/png": "[encoded data removed]",
      "text/plain": [
       "<Figure size 432x288 with 1 Axes>"
      ]
     },
     "metadata": {
      "needs_background": "light"
     },
     "output_type": "display_data"
    }
   ],
   "source": [
    "plt.grid()\n",
    "plt.xlabel('number of iterations')\n",
    "plt.ylabel('Accuracy')\n",
    "plt.title('Accuaracy-iterations')\n",
    "plt.plot(max_iter, train_acc, 'o-', color=\"r\",label=\"Training score\")\n",
    "plt.plot(max_iter, test_acc, 'o-', color=\"g\",label=\"Validation score\")\n",
    "plt.legend(loc=\"best\")"
   ]
  },
  {
   "cell_type": "code",
   "execution_count": 6,
   "metadata": {},
   "outputs": [
    {
     "name": "stdout",
     "output_type": "stream",
     "text": [
      "[0.899 0.901 0.894 0.878 0.897]\n",
      "0.8938\n"
     ]
    }
   ],
   "source": [
    "scores = cross_val_score(logreg, X ,Y, cv=5)\n",
    "print(scores)\n",
    "print(scores.mean())"
   ]
  },
  {
   "cell_type": "code",
   "execution_count": null,
   "metadata": {},
   "outputs": [],
   "source": []
  }
 ],
 "metadata": {
  "kernelspec": {
   "display_name": "Python 3",
   "language": "python",
   "name": "python3"
  },
  "language_info": {
   "codemirror_mode": {
    "name": "ipython",
    "version": 3
   },
   "file_extension": ".py",
   "mimetype": "text/x-python",
   "name": "python",
   "nbconvert_exporter": "python",
   "pygments_lexer": "ipython3",
   "version": "3.7.9"
  }
 },
 "nbformat": 4,
 "nbformat_minor": 4
}
