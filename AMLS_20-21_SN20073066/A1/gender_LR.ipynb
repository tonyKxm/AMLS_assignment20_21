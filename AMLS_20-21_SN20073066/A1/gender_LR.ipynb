{
 "cells": [
  {
   "cell_type": "code",
   "execution_count": 1,
   "metadata": {},
   "outputs": [],
   "source": [
    "from PIL import Image\n",
    "import os.path\n",
    "import pandas as pd\n",
    "from sklearn.model_selection import train_test_split,cross_val_score\n",
    "from sklearn.linear_model import LogisticRegression\n",
    "from sklearn.metrics import accuracy_score\n",
    "import numpy as np\n",
    "import matplotlib.pyplot as plt\n",
    "from sklearn import datasets"
   ]
  },
  {
   "cell_type": "code",
   "execution_count": 10,
   "metadata": {},
   "outputs": [],
   "source": [
    "def get_data():\n",
    "    X=[]\n",
    "    y=[]\n",
    "    baseDir = os.path.abspath('..')\n",
    "    filePath = os.path.join(baseDir ,'Datasets','celeba','img')\n",
    "    filelist = os.listdir(filePath)\n",
    "    labelPath = os.path.join(baseDir ,'Datasets','celeba','labels.csv') \n",
    "    labels = pd.read_csv(labelPath,delimiter = '\\t')\n",
    "    for item in filelist:\n",
    "        path = os.path.join(filePath,item)\n",
    "        img=Image.open(path)  \n",
    "        #resize image to 64*64, conver to grayscale\n",
    "        img = img.resize((64,64), Image.BILINEAR)\n",
    "        img = img.convert('L')\n",
    "        #flatten to 1D array and normalization\n",
    "        img = np.resize(img,64*64)\n",
    "        X.append(np.array(img)/255.)\n",
    "        #read labels according to image name\n",
    "        y.append(labels['gender'][int(item.split('.')[0])])\n",
    "    y = np.array(y)\n",
    "    #male = 1 and female =0\n",
    "    Y = np.array((y+1)/2)\n",
    "    x_train, x_test, y_train, y_test = train_test_split(X, Y,random_state=0)\n",
    "\n",
    "    return x_train, x_test, y_train, y_test, X, Y"
   ]
  },
  {
   "cell_type": "code",
   "execution_count": 11,
   "metadata": {},
   "outputs": [],
   "source": [
    "x_train, x_test, y_train, y_test, X, Y = get_data()"
   ]
  },
  {
   "cell_type": "code",
   "execution_count": 13,
   "metadata": {},
   "outputs": [
    {
     "name": "stdout",
     "output_type": "stream",
     "text": [
      "liblinear l1 0.9016\n",
      "liblinear l2 0.8808\n"
     ]
    },
    {
     "name": "stderr",
     "output_type": "stream",
     "text": [
      "C:\\Users\\Public\\Downloads\\Anaconda\\envs\\AMLS\\lib\\site-packages\\sklearn\\linear_model\\_sag.py:330: ConvergenceWarning: The max_iter was reached which means the coef_ did not converge\n",
      "  \"the coef_ did not converge\", ConvergenceWarning)\n"
     ]
    },
    {
     "name": "stdout",
     "output_type": "stream",
     "text": [
      "saga l1 0.8968\n"
     ]
    },
    {
     "name": "stderr",
     "output_type": "stream",
     "text": [
      "C:\\Users\\Public\\Downloads\\Anaconda\\envs\\AMLS\\lib\\site-packages\\sklearn\\linear_model\\_sag.py:330: ConvergenceWarning: The max_iter was reached which means the coef_ did not converge\n",
      "  \"the coef_ did not converge\", ConvergenceWarning)\n"
     ]
    },
    {
     "name": "stdout",
     "output_type": "stream",
     "text": [
      "saga l2 0.8872\n",
      "newton-cg l2 0.8832\n"
     ]
    },
    {
     "name": "stderr",
     "output_type": "stream",
     "text": [
      "C:\\Users\\Public\\Downloads\\Anaconda\\envs\\AMLS\\lib\\site-packages\\sklearn\\linear_model\\_logistic.py:764: ConvergenceWarning: lbfgs failed to converge (status=1):\n",
      "STOP: TOTAL NO. of ITERATIONS REACHED LIMIT.\n",
      "\n",
      "Increase the number of iterations (max_iter) or scale the data as shown in:\n",
      "    https://scikit-learn.org/stable/modules/preprocessing.html\n",
      "Please also refer to the documentation for alternative solver options:\n",
      "    https://scikit-learn.org/stable/modules/linear_model.html#logistic-regression\n",
      "  extra_warning_msg=_LOGISTIC_SOLVER_CONVERGENCE_MSG)\n"
     ]
    },
    {
     "name": "stdout",
     "output_type": "stream",
     "text": [
      "lbfgs l2 0.8768\n",
      "sag l2 0.8864\n"
     ]
    },
    {
     "name": "stderr",
     "output_type": "stream",
     "text": [
      "C:\\Users\\Public\\Downloads\\Anaconda\\envs\\AMLS\\lib\\site-packages\\sklearn\\linear_model\\_sag.py:330: ConvergenceWarning: The max_iter was reached which means the coef_ did not converge\n",
      "  \"the coef_ did not converge\", ConvergenceWarning)\n"
     ]
    }
   ],
   "source": [
    "#tune solver and regularization\n",
    "max_iter = np.arange(10,101)\n",
    "test_acc =[]\n",
    "train_acc=[]\n",
    "L2_solver = ['newton-cg', 'lbfgs', 'sag']\n",
    "L1_solver = ['liblinear','saga']\n",
    "for _ in L1_solver:\n",
    "    for reg in ['l1','l2']:\n",
    "        logreg = LogisticRegression(penalty = reg, solver=_)\n",
    "        logreg.fit(x_train, y_train)\n",
    "        yTest_pred= logreg.predict(x_test)\n",
    "        yTrain_pred = logreg.predict(x_train)\n",
    "        print(_,reg,accuracy_score(y_test,yTest_pred)) \n",
    "for _ in L2_solver:\n",
    "    logreg = LogisticRegression(penalty = 'l2', solver=_)\n",
    "    logreg.fit(x_train, y_train)\n",
    "    yTest_pred= logreg.predict(x_test)\n",
    "    yTrain_pred = logreg.predict(x_train)\n",
    "    print(_,reg,accuracy_score(y_test,yTest_pred)) \n",
    "#     train_acc.append(accuracy_score(y_train,yTrain_pred))"
   ]
  },
  {
   "cell_type": "code",
   "execution_count": 19,
   "metadata": {},
   "outputs": [
    {
     "name": "stdout",
     "output_type": "stream",
     "text": [
      "0.1 l2 0.8848\n",
      "0.12742749857031338 l2 0.8872\n",
      "0.16237767391887217 l2 0.8944\n",
      "0.20691380811147897 l2 0.8968\n",
      "0.26366508987303583 l2 0.9\n",
      "0.33598182862837817 l2 0.9008\n",
      "0.42813323987193935 l2 0.8952\n",
      "0.5455594781168519 l2 0.8992\n",
      "0.6951927961775606 l2 0.9\n",
      "0.8858667904100825 l2 0.9032\n",
      "1.1288378916846888 l2 0.896\n",
      "1.438449888287663 l2 0.888\n",
      "1.8329807108324356 l2 0.888\n",
      "2.3357214690901213 l2 0.884\n",
      "2.9763514416313175 l2 0.8816\n",
      "3.79269019073225 l2 0.8816\n",
      "4.832930238571752 l2 0.88\n",
      "6.158482110660261 l2 0.8784\n",
      "7.847599703514611 l2 0.8744\n",
      "10.0 l2 0.8696\n"
     ]
    }
   ],
   "source": [
    "#tune regularization strength\n",
    "for _ in np.linspace(-1,1,20):\n",
    "    c = 10**_\n",
    "    logreg = LogisticRegression(penalty = 'l1', solver='liblinear', C=c)\n",
    "    logreg.fit(x_train, y_train)\n",
    "    yTest_pred= logreg.predict(x_test)\n",
    "    yTrain_pred = logreg.predict(x_train)\n",
    "    print(c,'l1',accuracy_score(y_test,yTest_pred)) "
   ]
  },
  {
   "cell_type": "code",
   "execution_count": 22,
   "metadata": {},
   "outputs": [
    {
     "data": {
      "text/plain": [
       "[<matplotlib.lines.Line2D at 0x1b6800af188>]"
      ]
     },
     "execution_count": 22,
     "metadata": {},
     "output_type": "execute_result"
    },
    {
     "data": {
      "image/png": "[encoded data removed]",
      "text/plain": [
       "<Figure size 432x288 with 1 Axes>"
      ]
     },
     "metadata": {
      "needs_background": "light"
     },
     "output_type": "display_data"
    }
   ],
   "source": [
    "#visualization\n",
    "acc = [0.8848,0.8872,0.8944,0.8968,0.9,0.9008,0.8952,0.8992,0.9,0.9032,0.896,0.888,0.888,0.884,0.8816,0.8816,0.88,0.8784,0.8744,0.8696]\n",
    "plt.title('Accuracy-regularization strength')\n",
    "plt.xlabel('Regularization strength')\n",
    "plt.ylabel('Accuracy')\n",
    "plt.plot(10**np.linspace(-1,1,20),acc)"
   ]
  },
  {
   "cell_type": "code",
   "execution_count": 16,
   "metadata": {},
   "outputs": [],
   "source": [
    "test_temp =test_acc\n",
    "train_temp=train_acc"
   ]
  },
  {
   "cell_type": "code",
   "execution_count": 18,
   "metadata": {},
   "outputs": [
    {
     "data": {
      "text/plain": [
       "<matplotlib.legend.Legend at 0x23c80c35a88>"
      ]
     },
     "execution_count": 18,
     "metadata": {},
     "output_type": "execute_result"
    },
    {
     "data": {
      "image/png": "[encoded data removed]",
      "text/plain": [
       "<Figure size 432x288 with 1 Axes>"
      ]
     },
     "metadata": {
      "needs_background": "light"
     },
     "output_type": "display_data"
    }
   ],
   "source": [
    "#learning curvve visualization\n",
    "train_acc = np.array(train_temp[:80])\n",
    "train_acc = np.resize(train_acc,(10,-1))\n",
    "val_acc = np.array(test_temp[:80])\n",
    "val_acc = np.resize(val_acc,(10,-1))\n",
    "train_acc_mean = train_acc.mean(axis=1)\n",
    "train_acc_std = train_acc.std(axis=1)\n",
    "val_acc_mean = val_acc.mean(axis=1)\n",
    "val_acc_std = val_acc.std(axis=1)\n",
    "import matplotlib.pyplot as plt\n",
    "plt.grid()\n",
    "plt.title('Accuracy-iterations')\n",
    "plt.xlabel('iterations')\n",
    "plt.ylabel('Accuracy')\n",
    "plt.fill_between(np.linspace(10,80,10), train_acc_mean - train_acc_std,train_acc_mean + train_acc_std, alpha=0.1,color=\"r\")\n",
    "plt.fill_between(np.linspace(10,80,10), val_acc_mean - val_acc_std,val_acc_mean + val_acc_std, alpha=0.1,color=\"g\")\n",
    "plt.plot(np.linspace(10,80,10), train_acc_mean, color=\"r\",label=\"Training score\")\n",
    "plt.plot(np.linspace(10,80,10), val_acc_mean, color=\"g\",label=\"Validation score\")\n",
    "plt.legend(loc=\"best\")"
   ]
  },
  {
   "cell_type": "code",
   "execution_count": 6,
   "metadata": {},
   "outputs": [
    {
     "name": "stdout",
     "output_type": "stream",
     "text": [
      "[0.899 0.901 0.894 0.878 0.897]\n",
      "0.8938\n"
     ]
    }
   ],
   "source": [
    "scores = cross_val_score(logreg, X ,Y, cv=5)\n",
    "print(scores)\n",
    "print(scores.mean())"
   ]
  },
  {
   "cell_type": "code",
   "execution_count": null,
   "metadata": {},
   "outputs": [],
   "source": []
  }
 ],
 "metadata": {
  "kernelspec": {
   "display_name": "Python 3",
   "language": "python",
   "name": "python3"
  },
  "language_info": {
   "codemirror_mode": {
    "name": "ipython",
    "version": 3
   },
   "file_extension": ".py",
   "mimetype": "text/x-python",
   "name": "python",
   "nbconvert_exporter": "python",
   "pygments_lexer": "ipython3",
   "version": "3.7.9"
  }
 },
 "nbformat": 4,
 "nbformat_minor": 4
}
